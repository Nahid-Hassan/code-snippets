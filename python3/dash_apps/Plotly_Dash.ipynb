{
 "cells": [
  {
   "cell_type": "code",
   "execution_count": 8,
   "metadata": {},
   "outputs": [],
   "source": [
    "# Tutorial - 1"
   ]
  },
  {
   "cell_type": "code",
   "execution_count": 9,
   "metadata": {},
   "outputs": [],
   "source": [
    "import dash\n",
    "import dash_core_components as dcc\n",
    "import dash_html_components as html"
   ]
  },
  {
   "cell_type": "code",
   "execution_count": 10,
   "metadata": {},
   "outputs": [],
   "source": [
    "app = dash.Dash()"
   ]
  },
  {
   "cell_type": "code",
   "execution_count": 11,
   "metadata": {},
   "outputs": [],
   "source": [
    "# Div: like a container that contains a \n",
    "# set of related information\n",
    "app.layout = html.Div([\n",
    "    html.H1('Hello Dash!!!'),\n",
    "    html.Div('Dash - A Data product development framework from plotly.')\n",
    "])"
   ]
  },
  {
   "cell_type": "code",
   "execution_count": 12,
   "metadata": {},
   "outputs": [
    {
     "name": "stdout",
     "output_type": "stream",
     "text": [
      "Dash is running on http://127.0.0.1:4050/\n",
      "\n",
      "Dash is running on http://127.0.0.1:4050/\n",
      "\n",
      " * Serving Flask app \"__main__\" (lazy loading)\n",
      " * Environment: production\n",
      "   WARNING: This is a development server. Do not use it in a production deployment.\n",
      "   Use a production WSGI server instead.\n",
      " * Debug mode: off\n"
     ]
    },
    {
     "name": "stderr",
     "output_type": "stream",
     "text": [
      " * Running on http://127.0.0.1:4050/ (Press CTRL+C to quit)\n"
     ]
    }
   ],
   "source": [
    "if __name__ == '__main__':\n",
    "    app.run_server(port=4050)"
   ]
  },
  {
   "cell_type": "code",
   "execution_count": 13,
   "metadata": {},
   "outputs": [
    {
     "name": "stdout",
     "output_type": "stream",
     "text": [
      "Help on class Div in module dash_html_components.Div:\n",
      "\n",
      "class Div(dash.development.base_component.Component)\n",
      " |  Div(children=None, id=undefined, n_clicks=undefined, n_clicks_timestamp=undefined, key=undefined, role=undefined, accessKey=undefined, className=undefined, contentEditable=undefined, contextMenu=undefined, dir=undefined, draggable=undefined, hidden=undefined, lang=undefined, spellCheck=undefined, style=undefined, tabIndex=undefined, title=undefined, loading_state=undefined, **kwargs)\n",
      " |  \n",
      " |  A Div component.\n",
      " |  Div is a wrapper for the <div> HTML5 element.\n",
      " |  For detailed attribute info see:\n",
      " |  https://developer.mozilla.org/en-US/docs/Web/HTML/Element/div\n",
      " |  \n",
      " |  Keyword arguments:\n",
      " |  - children (a list of or a singular dash component, string or number; optional): The children of this component\n",
      " |  - id (string; optional): The ID of this component, used to identify dash components\n",
      " |  in callbacks. The ID needs to be unique across all of the\n",
      " |  components in an app.\n",
      " |  - n_clicks (number; default 0): An integer that represents the number of times\n",
      " |  that this element has been clicked on.\n",
      " |  - n_clicks_timestamp (number; default -1): An integer that represents the time (in ms since 1970)\n",
      " |  at which n_clicks changed. This can be used to tell\n",
      " |  which button was changed most recently.\n",
      " |  - key (string; optional): A unique identifier for the component, used to improve\n",
      " |  performance by React.js while rendering components\n",
      " |  See https://reactjs.org/docs/lists-and-keys.html for more info\n",
      " |  - role (string; optional): The ARIA role attribute\n",
      " |  - data-* (string; optional): A wildcard data attribute\n",
      " |  - aria-* (string; optional): A wildcard aria attribute\n",
      " |  - accessKey (string; optional): Keyboard shortcut to activate or add focus to the element.\n",
      " |  - className (string; optional): Often used with CSS to style elements with common properties.\n",
      " |  - contentEditable (string; optional): Indicates whether the element's content is editable.\n",
      " |  - contextMenu (string; optional): Defines the ID of a <menu> element which will serve as the element's context menu.\n",
      " |  - dir (string; optional): Defines the text direction. Allowed values are ltr (Left-To-Right) or rtl (Right-To-Left)\n",
      " |  - draggable (string; optional): Defines whether the element can be dragged.\n",
      " |  - hidden (a value equal to: 'hidden', 'HIDDEN' | boolean; optional): Prevents rendering of given element, while keeping child elements, e.g. script elements, active.\n",
      " |  - lang (string; optional): Defines the language used in the element.\n",
      " |  - spellCheck (string; optional): Indicates whether spell checking is allowed for the element.\n",
      " |  - style (dict; optional): Defines CSS styles which will override styles previously set.\n",
      " |  - tabIndex (string; optional): Overrides the browser's default tab order and follows the one specified instead.\n",
      " |  - title (string; optional): Text to be displayed in a tooltip when hovering over the element.\n",
      " |  - loading_state (dict; optional): Object that holds the loading state object coming from dash-renderer. loading_state has the following type: dict containing keys 'is_loading', 'prop_name', 'component_name'.\n",
      " |  Those keys have the following types:\n",
      " |    - is_loading (boolean; optional): Determines if the component is loading or not\n",
      " |    - prop_name (string; optional): Holds which property is loading\n",
      " |    - component_name (string; optional): Holds the name of the component that is loading\n",
      " |  \n",
      " |  Method resolution order:\n",
      " |      Div\n",
      " |      dash.development.base_component.Component\n",
      " |      builtins.object\n",
      " |  \n",
      " |  Methods defined here:\n",
      " |  \n",
      " |  __init__ = wrapper(self, children=None, id=undefined, n_clicks=undefined, n_clicks_timestamp=undefined, key=undefined, role=undefined, accessKey=undefined, className=undefined, contentEditable=undefined, contextMenu=undefined, dir=undefined, draggable=undefined, hidden=undefined, lang=undefined, spellCheck=undefined, style=undefined, tabIndex=undefined, title=undefined, loading_state=undefined, **kwargs)\n",
      " |  \n",
      " |  ----------------------------------------------------------------------\n",
      " |  Data and other attributes defined here:\n",
      " |  \n",
      " |  __abstractmethods__ = frozenset()\n",
      " |  \n",
      " |  ----------------------------------------------------------------------\n",
      " |  Methods inherited from dash.development.base_component.Component:\n",
      " |  \n",
      " |  __delitem__(self, id)\n",
      " |      Delete items by ID in the tree of children.\n",
      " |  \n",
      " |  __getitem__(self, id)\n",
      " |      Recursively find the element with the given ID through the tree of\n",
      " |      children.\n",
      " |  \n",
      " |  __iter__(self)\n",
      " |      Yield IDs in the tree of children.\n",
      " |  \n",
      " |  __len__(self)\n",
      " |      Return the number of items in the tree.\n",
      " |  \n",
      " |  __repr__(self)\n",
      " |      Return repr(self).\n",
      " |  \n",
      " |  __setitem__(self, id, item)\n",
      " |      Set an element by its ID.\n",
      " |  \n",
      " |  to_plotly_json(self)\n",
      " |  \n",
      " |  ----------------------------------------------------------------------\n",
      " |  Data descriptors inherited from dash.development.base_component.Component:\n",
      " |  \n",
      " |  __dict__\n",
      " |      dictionary for instance variables (if defined)\n",
      " |  \n",
      " |  __weakref__\n",
      " |      list of weak references to the object (if defined)\n",
      " |  \n",
      " |  ----------------------------------------------------------------------\n",
      " |  Data and other attributes inherited from dash.development.base_component.Component:\n",
      " |  \n",
      " |  REQUIRED = required\n",
      " |  \n",
      " |  UNDEFINED = undefined\n",
      "\n"
     ]
    }
   ],
   "source": [
    "help(html.Div)"
   ]
  },
  {
   "cell_type": "code",
   "execution_count": null,
   "metadata": {},
   "outputs": [],
   "source": []
  }
 ],
 "metadata": {
  "kernelspec": {
   "display_name": "Python 3",
   "language": "python",
   "name": "python3"
  },
  "language_info": {
   "codemirror_mode": {
    "name": "ipython",
    "version": 3
   },
   "file_extension": ".py",
   "mimetype": "text/x-python",
   "name": "python",
   "nbconvert_exporter": "python",
   "pygments_lexer": "ipython3",
   "version": "3.8.2"
  }
 },
 "nbformat": 4,
 "nbformat_minor": 4
}
