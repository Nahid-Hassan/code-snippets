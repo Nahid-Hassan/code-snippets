{
 "metadata": {
  "language_info": {
   "codemirror_mode": {
    "name": "ipython",
    "version": 3
   },
   "file_extension": ".py",
   "mimetype": "text/x-python",
   "name": "python",
   "nbconvert_exporter": "python",
   "pygments_lexer": "ipython3",
   "version": "3.8.2-final"
  },
  "orig_nbformat": 2,
  "kernelspec": {
   "name": "python_defaultSpec_1600758157401",
   "display_name": "Python 3.8.2 64-bit"
  }
 },
 "nbformat": 4,
 "nbformat_minor": 2,
 "cells": [
  {
   "cell_type": "code",
   "execution_count": 1,
   "metadata": {},
   "outputs": [],
   "source": [
    "# Files"
   ]
  },
  {
   "cell_type": "code",
   "execution_count": 2,
   "metadata": {
    "tags": []
   },
   "outputs": [
    {
     "output_type": "stream",
     "name": "stdout",
     "text": "\u001b[0m\u001b[34;42mdash_apps\u001b[0m/                        \u001b[01;32mfib1.py\u001b[0m*     \u001b[01;32msystem.ipynb\u001b[0m*\n\u001b[01;32m'expressions and statements.py'\u001b[0m*   \u001b[01;32mnaming.py\u001b[0m*\n"
    }
   ],
   "source": [
    "ls"
   ]
  },
  {
   "cell_type": "code",
   "execution_count": 3,
   "metadata": {},
   "outputs": [],
   "source": [
    "# Create with open()"
   ]
  },
  {
   "cell_type": "code",
   "execution_count": 7,
   "metadata": {},
   "outputs": [],
   "source": [
    "fout = open('oops.txt', 'wt')\n",
    "print('Oops, I created a file.', file=fout)\n",
    "fout.close()"
   ]
  },
  {
   "cell_type": "code",
   "execution_count": 8,
   "metadata": {
    "tags": []
   },
   "outputs": [
    {
     "output_type": "stream",
     "name": "stdout",
     "text": "dash_apps\t\t\t  fib1.py     oops.txt\n'expressions and statements.py'   naming.py   system.ipynb\n"
    }
   ],
   "source": [
    "!ls"
   ]
  },
  {
   "cell_type": "code",
   "execution_count": 9,
   "metadata": {},
   "outputs": [],
   "source": [
    "import os"
   ]
  },
  {
   "cell_type": "code",
   "execution_count": null,
   "metadata": {},
   "outputs": [],
   "source": [
    "# Check existence with exists()"
   ]
  },
  {
   "cell_type": "code",
   "execution_count": 10,
   "metadata": {},
   "outputs": [
    {
     "output_type": "execute_result",
     "data": {
      "text/plain": "True"
     },
     "metadata": {},
     "execution_count": 10
    }
   ],
   "source": [
    "os.path.exists('oops.txt')"
   ]
  },
  {
   "cell_type": "code",
   "execution_count": 11,
   "metadata": {},
   "outputs": [
    {
     "output_type": "execute_result",
     "data": {
      "text/plain": "True"
     },
     "metadata": {},
     "execution_count": 11
    }
   ],
   "source": [
    "os.path.exists('./oops.txt')"
   ]
  },
  {
   "cell_type": "code",
   "execution_count": 12,
   "metadata": {},
   "outputs": [
    {
     "output_type": "execute_result",
     "data": {
      "text/plain": "True"
     },
     "metadata": {},
     "execution_count": 12
    }
   ],
   "source": [
    "os.path.exists('.')"
   ]
  },
  {
   "cell_type": "code",
   "execution_count": 13,
   "metadata": {},
   "outputs": [
    {
     "output_type": "execute_result",
     "data": {
      "text/plain": "True"
     },
     "metadata": {},
     "execution_count": 13
    }
   ],
   "source": [
    "os.path.exists('..')"
   ]
  },
  {
   "cell_type": "code",
   "execution_count": 14,
   "metadata": {},
   "outputs": [],
   "source": [
    "# Check type with isfile()"
   ]
  },
  {
   "cell_type": "code",
   "execution_count": 15,
   "metadata": {},
   "outputs": [
    {
     "output_type": "execute_result",
     "data": {
      "text/plain": "True"
     },
     "metadata": {},
     "execution_count": 15
    }
   ],
   "source": [
    "name = 'oops.txt'\n",
    "os.path.isfile(name)"
   ]
  },
  {
   "cell_type": "code",
   "execution_count": 16,
   "metadata": {},
   "outputs": [
    {
     "output_type": "execute_result",
     "data": {
      "text/plain": "False"
     },
     "metadata": {},
     "execution_count": 16
    }
   ],
   "source": [
    "os.path.isdir(name)"
   ]
  },
  {
   "cell_type": "code",
   "execution_count": 17,
   "metadata": {},
   "outputs": [
    {
     "output_type": "execute_result",
     "data": {
      "text/plain": "True"
     },
     "metadata": {},
     "execution_count": 17
    }
   ],
   "source": [
    "os.path.isdir('.') # '.' represent current dir"
   ]
  },
  {
   "cell_type": "code",
   "execution_count": 18,
   "metadata": {},
   "outputs": [
    {
     "output_type": "execute_result",
     "data": {
      "text/plain": "False"
     },
     "metadata": {},
     "execution_count": 18
    }
   ],
   "source": [
    "os.path.isabs(name)"
   ]
  },
  {
   "cell_type": "code",
   "execution_count": 19,
   "metadata": {},
   "outputs": [
    {
     "output_type": "execute_result",
     "data": {
      "text/plain": "True"
     },
     "metadata": {},
     "execution_count": 19
    }
   ],
   "source": [
    "os.path.isabs('/home/nahid/')"
   ]
  },
  {
   "cell_type": "code",
   "execution_count": 20,
   "metadata": {},
   "outputs": [
    {
     "output_type": "execute_result",
     "data": {
      "text/plain": "False"
     },
     "metadata": {},
     "execution_count": 20
    }
   ],
   "source": [
    "os.path.isabs('./dash_apps/')"
   ]
  },
  {
   "cell_type": "code",
   "execution_count": 21,
   "metadata": {},
   "outputs": [],
   "source": [
    "# Copy with copy()"
   ]
  },
  {
   "cell_type": "code",
   "execution_count": 22,
   "metadata": {},
   "outputs": [],
   "source": [
    "import shutil"
   ]
  },
  {
   "cell_type": "code",
   "execution_count": 23,
   "metadata": {},
   "outputs": [
    {
     "output_type": "execute_result",
     "data": {
      "text/plain": "'ohno.txt'"
     },
     "metadata": {},
     "execution_count": 23
    }
   ],
   "source": [
    "shutil.copy('oops.txt', 'ohno.txt')"
   ]
  },
  {
   "cell_type": "code",
   "execution_count": 24,
   "metadata": {
    "tags": []
   },
   "outputs": [
    {
     "output_type": "stream",
     "name": "stdout",
     "text": "\u001b[0m\u001b[34;42mdash_apps\u001b[0m/                        \u001b[01;32mfib1.py\u001b[0m*     \u001b[01;32mohno.txt\u001b[0m*   \u001b[01;32msystem.ipynb\u001b[0m*\n\u001b[01;32m'expressions and statements.py'\u001b[0m*   \u001b[01;32mnaming.py\u001b[0m*   \u001b[01;32moops.txt\u001b[0m*\n"
    }
   ],
   "source": [
    "ls"
   ]
  },
  {
   "cell_type": "code",
   "execution_count": 25,
   "metadata": {},
   "outputs": [],
   "source": [
    "# Change the file name with rename\n",
    "os.rename('ohno.txt', 'ohwell.txt')"
   ]
  },
  {
   "cell_type": "code",
   "execution_count": 27,
   "metadata": {
    "tags": []
   },
   "outputs": [
    {
     "output_type": "stream",
     "name": "stdout",
     "text": "\u001b[0m\u001b[34;42mdash_apps\u001b[0m/                        \u001b[01;32mfib1.py\u001b[0m*     \u001b[01;32mohwell.txt\u001b[0m*   \u001b[01;32msystem.ipynb\u001b[0m*\n\u001b[01;32m'expressions and statements.py'\u001b[0m*   \u001b[01;32mnaming.py\u001b[0m*   \u001b[01;32moops.txt\u001b[0m*\n"
    }
   ],
   "source": [
    "ls"
   ]
  },
  {
   "cell_type": "code",
   "execution_count": 28,
   "metadata": {},
   "outputs": [],
   "source": [
    "# Link with link() or symlink()"
   ]
  },
  {
   "cell_type": "code",
   "execution_count": 29,
   "metadata": {},
   "outputs": [],
   "source": [
    "os.link('oops.txt', 'yikes.txt')"
   ]
  },
  {
   "cell_type": "code",
   "execution_count": 31,
   "metadata": {
    "tags": []
   },
   "outputs": [
    {
     "output_type": "stream",
     "name": "stdout",
     "text": "total 23\ndrwxrwxrwx 1 nahid nahid 4096 Sep 21 21:24  \u001b[0m\u001b[34;42mdash_apps\u001b[0m/\n-rwxrwxrwx 1 nahid nahid  873 Sep  1 10:47 \u001b[01;32m'expressions and statements.py'\u001b[0m*\n-rwxrwxrwx 1 nahid nahid  624 Sep 21 15:41  \u001b[01;32mfib1.py\u001b[0m*\n-rwxrwxrwx 1 nahid nahid 1887 Sep  1 10:36  \u001b[01;32mnaming.py\u001b[0m*\n-rwxrwxrwx 1 nahid nahid   24 Sep 22 13:09  \u001b[01;32mohwell.txt\u001b[0m*\n-rwxrwxrwx 2 nahid nahid   24 Sep 22 13:04  \u001b[01;32moops.txt\u001b[0m*\n-rwxrwxrwx 1 nahid nahid 8068 Sep 22 13:13  \u001b[01;32msystem.ipynb\u001b[0m*\n-rwxrwxrwx 2 nahid nahid   24 Sep 22 13:04  \u001b[01;32myikes.txt\u001b[0m*\n"
    }
   ],
   "source": [
    "ls -l"
   ]
  },
  {
   "cell_type": "code",
   "execution_count": 32,
   "metadata": {},
   "outputs": [
    {
     "output_type": "execute_result",
     "data": {
      "text/plain": "True"
     },
     "metadata": {},
     "execution_count": 32
    }
   ],
   "source": [
    "os.path.isfile('yikes.txt')"
   ]
  },
  {
   "cell_type": "code",
   "execution_count": 33,
   "metadata": {},
   "outputs": [
    {
     "output_type": "execute_result",
     "data": {
      "text/plain": "False"
     },
     "metadata": {},
     "execution_count": 33
    }
   ],
   "source": [
    "os.path.islink('yikes.txt')"
   ]
  },
  {
   "cell_type": "code",
   "execution_count": 34,
   "metadata": {},
   "outputs": [],
   "source": [
    "os.symlink('oops.txt', 'jeepers.txt')"
   ]
  },
  {
   "cell_type": "code",
   "execution_count": 35,
   "metadata": {},
   "outputs": [
    {
     "output_type": "execute_result",
     "data": {
      "text/plain": "True"
     },
     "metadata": {},
     "execution_count": 35
    }
   ],
   "source": [
    "os.path.islink('jeepers.txt')"
   ]
  },
  {
   "cell_type": "code",
   "execution_count": 36,
   "metadata": {},
   "outputs": [],
   "source": [
    "# Change permission with chmod()"
   ]
  },
  {
   "cell_type": "code",
   "execution_count": 37,
   "metadata": {},
   "outputs": [],
   "source": [
    "os.chmod('oops.txt', 0o400)"
   ]
  },
  {
   "cell_type": "code",
   "execution_count": 38,
   "metadata": {
    "tags": []
   },
   "outputs": [
    {
     "output_type": "stream",
     "name": "stdout",
     "text": "-rwxrwxrwx 2 nahid nahid 24 Sep 22 13:04 \u001b[0m\u001b[01;32moops.txt\u001b[0m*\n"
    }
   ],
   "source": [
    "ls -l oops.txt"
   ]
  },
  {
   "cell_type": "code",
   "execution_count": 39,
   "metadata": {},
   "outputs": [],
   "source": [
    "import stat"
   ]
  },
  {
   "cell_type": "code",
   "execution_count": 40,
   "metadata": {},
   "outputs": [],
   "source": [
    "os.chmod('oops.txt', stat.S_IRUSR)"
   ]
  },
  {
   "cell_type": "code",
   "execution_count": 41,
   "metadata": {
    "tags": []
   },
   "outputs": [
    {
     "output_type": "stream",
     "name": "stdout",
     "text": "-rwxrwxrwx 2 nahid nahid 24 Sep 22 13:04 \u001b[0m\u001b[01;32moops.txt\u001b[0m*\n"
    }
   ],
   "source": [
    "ls -l oops.txt"
   ]
  },
  {
   "cell_type": "code",
   "execution_count": 42,
   "metadata": {
    "tags": []
   },
   "outputs": [
    {
     "output_type": "stream",
     "name": "stdout",
     "text": "256\n"
    }
   ],
   "source": [
    "print(stat.S_IRUSR)"
   ]
  },
  {
   "cell_type": "code",
   "execution_count": 43,
   "metadata": {},
   "outputs": [],
   "source": [
    "# change the ownership with chown()"
   ]
  },
  {
   "cell_type": "code",
   "execution_count": 47,
   "metadata": {},
   "outputs": [],
   "source": [
    "# uid = 5\n",
    "# gid = 22\n",
    "# os.chown('oops.txt', uid, gid)"
   ]
  },
  {
   "cell_type": "code",
   "execution_count": 48,
   "metadata": {},
   "outputs": [],
   "source": [
    "# Get path name with abspath()"
   ]
  },
  {
   "cell_type": "code",
   "execution_count": 49,
   "metadata": {},
   "outputs": [
    {
     "output_type": "execute_result",
     "data": {
      "text/plain": "'/media/nahid/data-center/code-snippets/python3/oops.txt'"
     },
     "metadata": {},
     "execution_count": 49
    }
   ],
   "source": [
    "os.path.abspath('oops.txt')"
   ]
  },
  {
   "cell_type": "code",
   "execution_count": 50,
   "metadata": {},
   "outputs": [],
   "source": [
    "# Get a symlink pathname with realpath()"
   ]
  },
  {
   "cell_type": "code",
   "execution_count": 51,
   "metadata": {},
   "outputs": [
    {
     "output_type": "execute_result",
     "data": {
      "text/plain": "'/media/nahid/data-center/code-snippets/python3/oops.txt'"
     },
     "metadata": {},
     "execution_count": 51
    }
   ],
   "source": [
    "os.path.realpath('jeepers.txt')"
   ]
  },
  {
   "cell_type": "code",
   "execution_count": 52,
   "metadata": {},
   "outputs": [],
   "source": [
    "# Delete a file using remove()"
   ]
  },
  {
   "cell_type": "code",
   "execution_count": 53,
   "metadata": {},
   "outputs": [],
   "source": [
    "os.remove('oops.txt')"
   ]
  },
  {
   "cell_type": "code",
   "execution_count": 54,
   "metadata": {},
   "outputs": [
    {
     "output_type": "execute_result",
     "data": {
      "text/plain": "'/media/nahid/data-center/code-snippets/python3/oops.txt'"
     },
     "metadata": {},
     "execution_count": 54
    }
   ],
   "source": [
    "os.path.realpath('jeepers.txt')"
   ]
  },
  {
   "cell_type": "code",
   "execution_count": 56,
   "metadata": {
    "tags": []
   },
   "outputs": [
    {
     "output_type": "stream",
     "name": "stdout",
     "text": "total 31\ndrwxrwxrwx 1 nahid nahid  4096 Sep 21 21:24  \u001b[0m\u001b[34;42mdash_apps\u001b[0m/\n-rwxrwxrwx 1 nahid nahid   873 Sep  1 10:47 \u001b[01;32m'expressions and statements.py'\u001b[0m*\n-rwxrwxrwx 1 nahid nahid   624 Sep 21 15:41  \u001b[01;32mfib1.py\u001b[0m*\nlrwxrwxrwx 1 nahid nahid     8 Sep 22 13:15  \u001b[01;36mjeepers.txt\u001b[0m -> oops.txt\n-rwxrwxrwx 1 nahid nahid  1887 Sep  1 10:36  \u001b[01;32mnaming.py\u001b[0m*\n-rwxrwxrwx 1 nahid nahid    24 Sep 22 13:09  \u001b[01;32mohwell.txt\u001b[0m*\n-rwxrwxrwx 1 nahid nahid 13282 Sep 22 13:21  \u001b[01;32msystem.ipynb\u001b[0m*\n-rwxrwxrwx 1 nahid nahid    24 Sep 22 13:04  \u001b[01;32myikes.txt\u001b[0m*\n"
    }
   ],
   "source": [
    "ls -l"
   ]
  },
  {
   "cell_type": "code",
   "execution_count": 57,
   "metadata": {},
   "outputs": [],
   "source": [
    "# Create directory with mkdir"
   ]
  },
  {
   "cell_type": "code",
   "execution_count": 58,
   "metadata": {},
   "outputs": [],
   "source": [
    "os.mkdir('poems')"
   ]
  },
  {
   "cell_type": "code",
   "execution_count": 59,
   "metadata": {},
   "outputs": [
    {
     "output_type": "execute_result",
     "data": {
      "text/plain": "True"
     },
     "metadata": {},
     "execution_count": 59
    }
   ],
   "source": [
    "os.path.exists('poems')"
   ]
  },
  {
   "cell_type": "code",
   "execution_count": 60,
   "metadata": {},
   "outputs": [
    {
     "output_type": "execute_result",
     "data": {
      "text/plain": "True"
     },
     "metadata": {},
     "execution_count": 60
    }
   ],
   "source": [
    "os.path.isdir('poems/')"
   ]
  },
  {
   "cell_type": "code",
   "execution_count": 61,
   "metadata": {},
   "outputs": [
    {
     "output_type": "execute_result",
     "data": {
      "text/plain": "False"
     },
     "metadata": {},
     "execution_count": 61
    }
   ],
   "source": [
    "os.path.isfile('poems/')"
   ]
  },
  {
   "cell_type": "code",
   "execution_count": 62,
   "metadata": {},
   "outputs": [],
   "source": [
    "# Delete with rmdir()"
   ]
  },
  {
   "cell_type": "code",
   "execution_count": 63,
   "metadata": {},
   "outputs": [],
   "source": [
    "os.rmdir('poems/')"
   ]
  },
  {
   "cell_type": "code",
   "execution_count": 64,
   "metadata": {},
   "outputs": [
    {
     "output_type": "execute_result",
     "data": {
      "text/plain": "False"
     },
     "metadata": {},
     "execution_count": 64
    }
   ],
   "source": [
    "os.path.exists('poems')"
   ]
  },
  {
   "cell_type": "code",
   "execution_count": 65,
   "metadata": {},
   "outputs": [],
   "source": [
    "# List contents with listdir\n",
    "os.mkdir('poems')"
   ]
  },
  {
   "cell_type": "code",
   "execution_count": 66,
   "metadata": {},
   "outputs": [
    {
     "output_type": "execute_result",
     "data": {
      "text/plain": "[]"
     },
     "metadata": {},
     "execution_count": 66
    }
   ],
   "source": [
    "os.listdir('poems')"
   ]
  },
  {
   "cell_type": "code",
   "execution_count": 67,
   "metadata": {},
   "outputs": [],
   "source": [
    "# Next, make a subdirectory"
   ]
  },
  {
   "cell_type": "code",
   "execution_count": 68,
   "metadata": {},
   "outputs": [],
   "source": [
    "os.mkdir('poems/mcintyre')"
   ]
  },
  {
   "cell_type": "code",
   "execution_count": 69,
   "metadata": {},
   "outputs": [
    {
     "output_type": "execute_result",
     "data": {
      "text/plain": "['mcintyre']"
     },
     "metadata": {},
     "execution_count": 69
    }
   ],
   "source": [
    "os.listdir('poems')"
   ]
  },
  {
   "cell_type": "code",
   "execution_count": 70,
   "metadata": {},
   "outputs": [],
   "source": [
    "fout = open('poems/mcintyre/the_good_man', 'wt')"
   ]
  },
  {
   "cell_type": "code",
   "execution_count": 71,
   "metadata": {},
   "outputs": [
    {
     "output_type": "execute_result",
     "data": {
      "text/plain": "133"
     },
     "metadata": {},
     "execution_count": 71
    }
   ],
   "source": [
    "fout.write('''\n",
    "    Cheerful and happy was his moode, \n",
    "    He to the poor saw kind and good,\n",
    "    And he oft' times did find them food,\n",
    "    ........\n",
    "''')"
   ]
  },
  {
   "cell_type": "code",
   "execution_count": 72,
   "metadata": {},
   "outputs": [],
   "source": [
    "fout.close()"
   ]
  },
  {
   "cell_type": "code",
   "execution_count": 73,
   "metadata": {},
   "outputs": [
    {
     "output_type": "execute_result",
     "data": {
      "text/plain": "['the_good_man']"
     },
     "metadata": {},
     "execution_count": 73
    }
   ],
   "source": [
    "os.listdir('poems/mcintyre/')"
   ]
  },
  {
   "cell_type": "code",
   "execution_count": 74,
   "metadata": {},
   "outputs": [],
   "source": [
    "# List matching files with glob()"
   ]
  },
  {
   "cell_type": "code",
   "execution_count": 75,
   "metadata": {},
   "outputs": [
    {
     "output_type": "execute_result",
     "data": {
      "text/plain": "'The glob() function matches file or directory names by using Unix shell rules rather\\n    than the more complete regular expression syntax. Here are those rules:\\n    • * matches everything (re would expect .*)\\n    • ? matches a single character\\n    • [abc] matches character a, b, or c\\n    • [!abc] matches any character except a, b, or c\\n'"
     },
     "metadata": {},
     "execution_count": 75
    }
   ],
   "source": [
    "\"\"\"The glob() function matches file or directory names by using Unix shell rules rather\n",
    "    than the more complete regular expression syntax. Here are those rules:\n",
    "    • * matches everything (re would expect .*)\n",
    "    • ? matches a single character\n",
    "    • [abc] matches character a, b, or c\n",
    "    • [!abc] matches any character except a, b, or c\n",
    "\"\"\""
   ]
  },
  {
   "cell_type": "code",
   "execution_count": 76,
   "metadata": {},
   "outputs": [],
   "source": [
    "import glob"
   ]
  },
  {
   "cell_type": "code",
   "execution_count": 80,
   "metadata": {},
   "outputs": [
    {
     "output_type": "execute_result",
     "data": {
      "text/plain": "['.ipynb_checkpoints',\n 'dash_apps',\n 'expressions and statements.py',\n 'fib1.py',\n 'jeepers.txt',\n 'naming.py',\n 'ohwell.txt',\n 'poems',\n 'system.ipynb',\n 'yikes.txt']"
     },
     "metadata": {},
     "execution_count": 80
    }
   ],
   "source": [
    "os.listdir('.')"
   ]
  },
  {
   "cell_type": "code",
   "execution_count": 81,
   "metadata": {},
   "outputs": [
    {
     "output_type": "execute_result",
     "data": {
      "text/plain": "['expressions and statements.py',\n 'jeepers.txt',\n 'ohwell.txt',\n 'poems',\n 'system.ipynb',\n 'yikes.txt']"
     },
     "metadata": {},
     "execution_count": 81
    }
   ],
   "source": [
    "glob.glob('*e*')"
   ]
  },
  {
   "cell_type": "code",
   "execution_count": 82,
   "metadata": {},
   "outputs": [
    {
     "output_type": "execute_result",
     "data": {
      "text/plain": "[]"
     },
     "metadata": {},
     "execution_count": 82
    }
   ],
   "source": [
    "glob.glob('??')"
   ]
  },
  {
   "cell_type": "code",
   "execution_count": 84,
   "metadata": {},
   "outputs": [
    {
     "output_type": "execute_result",
     "data": {
      "text/plain": "['poems']"
     },
     "metadata": {},
     "execution_count": 84
    }
   ],
   "source": [
    "glob.glob('?????')"
   ]
  },
  {
   "cell_type": "code",
   "execution_count": 87,
   "metadata": {},
   "outputs": [
    {
     "output_type": "execute_result",
     "data": {
      "text/plain": "['poems']"
     },
     "metadata": {},
     "execution_count": 87
    }
   ],
   "source": [
    "glob.glob('??[e]?s')"
   ]
  },
  {
   "cell_type": "code",
   "execution_count": 88,
   "metadata": {},
   "outputs": [],
   "source": [
    "# Program and process"
   ]
  },
  {
   "cell_type": "code",
   "execution_count": 89,
   "metadata": {},
   "outputs": [
    {
     "output_type": "execute_result",
     "data": {
      "text/plain": "'\\nWhen you run an individual program, your operating system creates a single process. It\\nuses system resources (CPU, memory, disk space) and data structures in the operating\\nsystem’s kernel (file and network connections, usage statistics, and so on). A process is\\nisolated from other processes—it can’t see what other processes are doing or interfere\\nwith them.\\nThe operating system keeps track of all the running processes, giving each a little time\\nto run and then switching to another, with the twin goals of spreading the work around\\nfairly and being responsive to the user. You can see the state of your processes with\\ngraphical interfaces such as the Mac’s Activity Monitor (OS X), or Task Manager on\\nWindows-based computers.\\nYou can also access process data from your own programs. The standard library’s os\\nmodule provides a common way of accessing some system information. For instance,\\nthe following functions get\\n'"
     },
     "metadata": {},
     "execution_count": 89
    }
   ],
   "source": [
    "\"\"\"\n",
    "When you run an individual program, your operating system creates a single process. It\n",
    "uses system resources (CPU, memory, disk space) and data structures in the operating\n",
    "system’s kernel (file and network connections, usage statistics, and so on). A process is\n",
    "isolated from other processes—it can’t see what other processes are doing or interfere\n",
    "with them.\n",
    "The operating system keeps track of all the running processes, giving each a little time\n",
    "to run and then switching to another, with the twin goals of spreading the work around\n",
    "fairly and being responsive to the user. You can see the state of your processes with\n",
    "graphical interfaces such as the Mac’s Activity Monitor (OS X), or Task Manager on\n",
    "Windows-based computers.\n",
    "You can also access process data from your own programs. The standard library’s os\n",
    "module provides a common way of accessing some system information. For instance,\n",
    "the following functions get\n",
    "\"\"\""
   ]
  },
  {
   "cell_type": "code",
   "execution_count": 90,
   "metadata": {},
   "outputs": [],
   "source": [
    "# the following functions get the process ID and the current working directory of then runing Python Interpreter"
   ]
  },
  {
   "cell_type": "code",
   "execution_count": 91,
   "metadata": {},
   "outputs": [
    {
     "output_type": "execute_result",
     "data": {
      "text/plain": "33266"
     },
     "metadata": {},
     "execution_count": 91
    }
   ],
   "source": [
    "os.getpid()"
   ]
  },
  {
   "cell_type": "code",
   "execution_count": 93,
   "metadata": {},
   "outputs": [
    {
     "output_type": "execute_result",
     "data": {
      "text/plain": "'/media/nahid/data-center/code-snippets/python3'"
     },
     "metadata": {},
     "execution_count": 93
    }
   ],
   "source": [
    "os.getcwd() # current working directory"
   ]
  },
  {
   "cell_type": "code",
   "execution_count": 94,
   "metadata": {},
   "outputs": [],
   "source": [
    "# Get userid"
   ]
  },
  {
   "cell_type": "code",
   "execution_count": 95,
   "metadata": {},
   "outputs": [
    {
     "output_type": "execute_result",
     "data": {
      "text/plain": "1000"
     },
     "metadata": {},
     "execution_count": 95
    }
   ],
   "source": [
    "os.getuid()"
   ]
  },
  {
   "cell_type": "code",
   "execution_count": 96,
   "metadata": {},
   "outputs": [],
   "source": [
    "# Get group id"
   ]
  },
  {
   "cell_type": "code",
   "execution_count": 97,
   "metadata": {},
   "outputs": [
    {
     "output_type": "execute_result",
     "data": {
      "text/plain": "1000"
     },
     "metadata": {},
     "execution_count": 97
    }
   ],
   "source": [
    "os.getgid()"
   ]
  },
  {
   "cell_type": "code",
   "execution_count": 98,
   "metadata": {},
   "outputs": [],
   "source": [
    "# Create a process with subprocess"
   ]
  },
  {
   "cell_type": "code",
   "execution_count": 99,
   "metadata": {},
   "outputs": [],
   "source": [
    "# All the program that you've seen here so far have been individual processes.\n",
    "# You can start, stop other existing programs from python"
   ]
  },
  {
   "cell_type": "code",
   "execution_count": 100,
   "metadata": {},
   "outputs": [],
   "source": [
    "import subprocess"
   ]
  },
  {
   "cell_type": "code",
   "execution_count": 105,
   "metadata": {},
   "outputs": [],
   "source": [
    "ret = subprocess.getoutput('cal')"
   ]
  },
  {
   "cell_type": "code",
   "execution_count": 107,
   "metadata": {
    "tags": []
   },
   "outputs": [
    {
     "output_type": "stream",
     "name": "stdout",
     "text": "('   September 2020     \\n'\n 'Su Mo Tu We Th Fr Sa  \\n'\n '       1  2  3  4  5  \\n'\n ' 6  7  8  9 10 11 12  \\n'\n '13 14 15 16 17 18 19  \\n'\n '20 21 _\\x082_\\x082 23 24 25 26  \\n'\n '27 28 29 30           \\n'\n '                      ')\n"
    }
   ],
   "source": [
    "from pprint import pprint\n",
    "pprint(ret)"
   ]
  },
  {
   "cell_type": "code",
   "execution_count": 108,
   "metadata": {},
   "outputs": [],
   "source": [
    "ret = subprocess.getoutput('ls -l')"
   ]
  },
  {
   "cell_type": "code",
   "execution_count": 110,
   "metadata": {
    "tags": []
   },
   "outputs": [
    {
     "output_type": "stream",
     "name": "stdout",
     "text": "('total 43\\n'\n 'drwxrwxrwx 1 nahid nahid  4096 Sep 21 21:24 dash_apps\\n'\n '-rwxrwxrwx 1 nahid nahid   873 Sep  1 10:47 expressions and statements.py\\n'\n '-rwxrwxrwx 1 nahid nahid   624 Sep 21 15:41 fib1.py\\n'\n 'lrwxrwxrwx 1 nahid nahid     8 Sep 22 13:15 jeepers.txt -> oops.txt\\n'\n '-rwxrwxrwx 1 nahid nahid  1887 Sep  1 10:36 naming.py\\n'\n '-rwxrwxrwx 1 nahid nahid    24 Sep 22 13:09 ohwell.txt\\n'\n 'drwxrwxrwx 1 nahid nahid   152 Sep 22 13:25 poems\\n'\n '-rwxrwxrwx 1 nahid nahid 26399 Sep 22 13:42 system.ipynb\\n'\n '-rwxrwxrwx 1 nahid nahid    24 Sep 22 13:04 yikes.txt')\n"
    }
   ],
   "source": [
    "pprint(ret)"
   ]
  },
  {
   "cell_type": "code",
   "execution_count": 111,
   "metadata": {},
   "outputs": [],
   "source": [
    "ret = subprocess.getoutput('date')"
   ]
  },
  {
   "cell_type": "code",
   "execution_count": 112,
   "metadata": {},
   "outputs": [
    {
     "output_type": "execute_result",
     "data": {
      "text/plain": "'Tue 22 Sep 2020 01:43:00 PM +06'"
     },
     "metadata": {},
     "execution_count": 112
    }
   ],
   "source": [
    "ret"
   ]
  },
  {
   "cell_type": "code",
   "execution_count": 113,
   "metadata": {},
   "outputs": [],
   "source": [
    "ret = subprocess.getoutput('date -u')"
   ]
  },
  {
   "cell_type": "code",
   "execution_count": 114,
   "metadata": {},
   "outputs": [
    {
     "output_type": "execute_result",
     "data": {
      "text/plain": "'Tue 22 Sep 2020 07:43:45 AM UTC'"
     },
     "metadata": {},
     "execution_count": 114
    }
   ],
   "source": [
    "ret"
   ]
  },
  {
   "cell_type": "code",
   "execution_count": 115,
   "metadata": {},
   "outputs": [
    {
     "output_type": "execute_result",
     "data": {
      "text/plain": "'      1       7      32'"
     },
     "metadata": {},
     "execution_count": 115
    }
   ],
   "source": [
    "ret = subprocess.getoutput('date -u | wc')\n",
    "ret"
   ]
  },
  {
   "cell_type": "code",
   "execution_count": 116,
   "metadata": {},
   "outputs": [],
   "source": [
    "ret = subprocess.getstatusoutput('date')"
   ]
  },
  {
   "cell_type": "code",
   "execution_count": 117,
   "metadata": {},
   "outputs": [
    {
     "output_type": "execute_result",
     "data": {
      "text/plain": "(0, 'Tue 22 Sep 2020 02:07:10 PM +06')"
     },
     "metadata": {},
     "execution_count": 117
    }
   ],
   "source": [
    "ret # in unix-like system 0 -> for success"
   ]
  },
  {
   "cell_type": "code",
   "execution_count": 118,
   "metadata": {},
   "outputs": [],
   "source": [
    "# if you don't want to capture the output but might want to know it's exit status, use call()"
   ]
  },
  {
   "cell_type": "code",
   "execution_count": 120,
   "metadata": {},
   "outputs": [],
   "source": [
    "ret = subprocess.call('date -u', shell=True)"
   ]
  },
  {
   "cell_type": "code",
   "execution_count": 121,
   "metadata": {},
   "outputs": [
    {
     "output_type": "execute_result",
     "data": {
      "text/plain": "0"
     },
     "metadata": {},
     "execution_count": 121
    }
   ],
   "source": [
    "ret"
   ]
  },
  {
   "cell_type": "code",
   "execution_count": 122,
   "metadata": {},
   "outputs": [],
   "source": [
    "ret = subprocess.call(['date', '-u'])"
   ]
  },
  {
   "cell_type": "code",
   "execution_count": 123,
   "metadata": {},
   "outputs": [
    {
     "output_type": "execute_result",
     "data": {
      "text/plain": "0"
     },
     "metadata": {},
     "execution_count": 123
    }
   ],
   "source": [
    "ret"
   ]
  },
  {
   "cell_type": "code",
   "execution_count": 126,
   "metadata": {},
   "outputs": [],
   "source": [
    "# Create a process with multiprocessing"
   ]
  },
  {
   "cell_type": "code",
   "execution_count": 127,
   "metadata": {},
   "outputs": [],
   "source": [
    "import multiprocessing"
   ]
  },
  {
   "cell_type": "code",
   "execution_count": 128,
   "metadata": {},
   "outputs": [],
   "source": [
    "def do_this(what):\n",
    "    whoami(what)"
   ]
  },
  {
   "cell_type": "code",
   "execution_count": 129,
   "metadata": {},
   "outputs": [],
   "source": [
    "def whoami(what):\n",
    "    print(\"Process %s says: %s\" %(os.getpid(), what))"
   ]
  },
  {
   "cell_type": "code",
   "execution_count": 132,
   "metadata": {
    "tags": []
   },
   "outputs": [
    {
     "output_type": "stream",
     "name": "stdout",
     "text": "Process 33266 says: I am in the main program\nProcess 39264 says: I am function 0\nProcess 39267 says: I am function 1\nProcess 39272 says: I am function 2\nProcess 39275 says: I am function 3\n"
    }
   ],
   "source": [
    "if __name__ == '__main__':\n",
    "    whoami('I am in the main program')\n",
    "\n",
    "    for n in range(4):\n",
    "        p = multiprocessing.Process(target=do_this, args=('I am function %s' %n,))\n",
    "        p.start()"
   ]
  },
  {
   "cell_type": "code",
   "execution_count": 133,
   "metadata": {},
   "outputs": [],
   "source": [
    "# Kill a process with terminate"
   ]
  },
  {
   "cell_type": "code",
   "execution_count": 141,
   "metadata": {},
   "outputs": [],
   "source": [
    "import os\n",
    "import multiprocessing\n",
    "import time"
   ]
  },
  {
   "cell_type": "code",
   "execution_count": 142,
   "metadata": {},
   "outputs": [],
   "source": [
    "def whoami(name):\n",
    "    print(\"I am %s, in process %s\" %(name, os.getpid()))\n",
    "    "
   ]
  },
  {
   "cell_type": "code",
   "execution_count": 146,
   "metadata": {},
   "outputs": [],
   "source": [
    "def loopy(name):\n",
    "    whoami(name)\n",
    "    start = 1\n",
    "    stop = 1000000\n",
    "    for num in range(start, stop):\n",
    "        print(\"\\tNumber %s of %s. Honk!\" %(name, os.getpid()))\n",
    "        time.sleep(1)"
   ]
  },
  {
   "cell_type": "code",
   "execution_count": 147,
   "metadata": {
    "tags": []
   },
   "outputs": [
    {
     "output_type": "stream",
     "name": "stdout",
     "text": "I am main, in process 33266\nI am loopy, in process 39756\n\tNumber loopy of 39756. Honk!\n\tNumber loopy of 39756. Honk!\n\tNumber loopy of 39756. Honk!\n\tNumber loopy of 39756. Honk!\n\tNumber loopy of 39756. Honk!\n"
    }
   ],
   "source": [
    "if __name__ == '__main__':\n",
    "    whoami('main')\n",
    "    p = multiprocessing.Process(target=loopy, args=['loopy',])\n",
    "    p.start()\n",
    "    time.sleep(5)\n",
    "    p.terminate()"
   ]
  },
  {
   "cell_type": "code",
   "execution_count": 148,
   "metadata": {},
   "outputs": [],
   "source": [
    "import calendar"
   ]
  },
  {
   "cell_type": "code",
   "execution_count": 149,
   "metadata": {},
   "outputs": [
    {
     "output_type": "execute_result",
     "data": {
      "text/plain": "False"
     },
     "metadata": {},
     "execution_count": 149
    }
   ],
   "source": [
    "calendar.isleap(1900)"
   ]
  },
  {
   "cell_type": "code",
   "execution_count": 150,
   "metadata": {},
   "outputs": [
    {
     "output_type": "execute_result",
     "data": {
      "text/plain": "False"
     },
     "metadata": {},
     "execution_count": 150
    }
   ],
   "source": [
    "calendar.isleap(1999)"
   ]
  },
  {
   "cell_type": "code",
   "execution_count": 152,
   "metadata": {},
   "outputs": [
    {
     "output_type": "execute_result",
     "data": {
      "text/plain": "True"
     },
     "metadata": {},
     "execution_count": 152
    }
   ],
   "source": [
    "calendar.isleap(2000)"
   ]
  },
  {
   "cell_type": "code",
   "execution_count": 153,
   "metadata": {},
   "outputs": [],
   "source": [
    "from datetime import date"
   ]
  },
  {
   "cell_type": "code",
   "execution_count": 154,
   "metadata": {},
   "outputs": [],
   "source": [
    "halloween = date(2014, 10, 31)"
   ]
  },
  {
   "cell_type": "code",
   "execution_count": 155,
   "metadata": {},
   "outputs": [
    {
     "output_type": "execute_result",
     "data": {
      "text/plain": "datetime.date(2014, 10, 31)"
     },
     "metadata": {},
     "execution_count": 155
    }
   ],
   "source": [
    "halloween"
   ]
  },
  {
   "cell_type": "code",
   "execution_count": 156,
   "metadata": {},
   "outputs": [
    {
     "output_type": "execute_result",
     "data": {
      "text/plain": "10"
     },
     "metadata": {},
     "execution_count": 156
    }
   ],
   "source": [
    "halloween.month"
   ]
  },
  {
   "cell_type": "code",
   "execution_count": 157,
   "metadata": {},
   "outputs": [
    {
     "output_type": "execute_result",
     "data": {
      "text/plain": "2014"
     },
     "metadata": {},
     "execution_count": 157
    }
   ],
   "source": [
    "halloween.year"
   ]
  },
  {
   "cell_type": "code",
   "execution_count": 158,
   "metadata": {},
   "outputs": [
    {
     "output_type": "execute_result",
     "data": {
      "text/plain": "'2014-10-31'"
     },
     "metadata": {},
     "execution_count": 158
    }
   ],
   "source": [
    "halloween.isoformat()"
   ]
  },
  {
   "cell_type": "code",
   "execution_count": 159,
   "metadata": {},
   "outputs": [
    {
     "output_type": "execute_result",
     "data": {
      "text/plain": "datetime.date(2020, 9, 22)"
     },
     "metadata": {},
     "execution_count": 159
    }
   ],
   "source": [
    "now = date.today()\n",
    "now"
   ]
  },
  {
   "cell_type": "code",
   "execution_count": 160,
   "metadata": {},
   "outputs": [],
   "source": [
    "from datetime import timedelta"
   ]
  },
  {
   "cell_type": "code",
   "execution_count": 161,
   "metadata": {},
   "outputs": [],
   "source": [
    "one_day = timedelta(days=1)"
   ]
  },
  {
   "cell_type": "code",
   "execution_count": 162,
   "metadata": {},
   "outputs": [],
   "source": [
    "tomorrow = now + one_day"
   ]
  },
  {
   "cell_type": "code",
   "execution_count": 163,
   "metadata": {},
   "outputs": [
    {
     "output_type": "execute_result",
     "data": {
      "text/plain": "datetime.date(2020, 9, 23)"
     },
     "metadata": {},
     "execution_count": 163
    }
   ],
   "source": [
    "tomorrow"
   ]
  },
  {
   "cell_type": "code",
   "execution_count": 164,
   "metadata": {},
   "outputs": [
    {
     "output_type": "execute_result",
     "data": {
      "text/plain": "datetime.date(2020, 10, 9)"
     },
     "metadata": {},
     "execution_count": 164
    }
   ],
   "source": [
    "now + 17 * one_day"
   ]
  },
  {
   "cell_type": "code",
   "execution_count": 165,
   "metadata": {},
   "outputs": [],
   "source": [
    "yesterday = now - one_day"
   ]
  },
  {
   "cell_type": "code",
   "execution_count": 166,
   "metadata": {},
   "outputs": [
    {
     "output_type": "execute_result",
     "data": {
      "text/plain": "datetime.date(2020, 9, 21)"
     },
     "metadata": {},
     "execution_count": 166
    }
   ],
   "source": [
    "yesterday"
   ]
  },
  {
   "cell_type": "code",
   "execution_count": 167,
   "metadata": {},
   "outputs": [],
   "source": [
    "from datetime import time"
   ]
  },
  {
   "cell_type": "code",
   "execution_count": 168,
   "metadata": {},
   "outputs": [],
   "source": [
    "noon = time(12, 0, 0)"
   ]
  },
  {
   "cell_type": "code",
   "execution_count": 169,
   "metadata": {},
   "outputs": [
    {
     "output_type": "execute_result",
     "data": {
      "text/plain": "datetime.time(12, 0)"
     },
     "metadata": {},
     "execution_count": 169
    }
   ],
   "source": [
    "noon"
   ]
  },
  {
   "cell_type": "code",
   "execution_count": 170,
   "metadata": {},
   "outputs": [
    {
     "output_type": "execute_result",
     "data": {
      "text/plain": "12"
     },
     "metadata": {},
     "execution_count": 170
    }
   ],
   "source": [
    "noon.hour"
   ]
  },
  {
   "cell_type": "code",
   "execution_count": 171,
   "metadata": {},
   "outputs": [],
   "source": [
    "from datetime import datetime"
   ]
  },
  {
   "cell_type": "code",
   "execution_count": 173,
   "metadata": {},
   "outputs": [],
   "source": [
    "now = datetime.now()"
   ]
  },
  {
   "cell_type": "code",
   "execution_count": 174,
   "metadata": {},
   "outputs": [
    {
     "output_type": "execute_result",
     "data": {
      "text/plain": "datetime.datetime(2020, 9, 22, 15, 28, 22, 460493)"
     },
     "metadata": {},
     "execution_count": 174
    }
   ],
   "source": [
    "now"
   ]
  },
  {
   "cell_type": "code",
   "execution_count": 175,
   "metadata": {},
   "outputs": [
    {
     "output_type": "execute_result",
     "data": {
      "text/plain": "9"
     },
     "metadata": {},
     "execution_count": 175
    }
   ],
   "source": [
    "now.month"
   ]
  },
  {
   "cell_type": "code",
   "execution_count": 176,
   "metadata": {},
   "outputs": [
    {
     "output_type": "execute_result",
     "data": {
      "text/plain": "22"
     },
     "metadata": {},
     "execution_count": 176
    }
   ],
   "source": [
    "now.day"
   ]
  },
  {
   "cell_type": "code",
   "execution_count": 177,
   "metadata": {},
   "outputs": [
    {
     "output_type": "execute_result",
     "data": {
      "text/plain": "15"
     },
     "metadata": {},
     "execution_count": 177
    }
   ],
   "source": [
    "now.hour"
   ]
  },
  {
   "cell_type": "code",
   "execution_count": 179,
   "metadata": {},
   "outputs": [
    {
     "output_type": "execute_result",
     "data": {
      "text/plain": "28"
     },
     "metadata": {},
     "execution_count": 179
    }
   ],
   "source": [
    "now.minute"
   ]
  },
  {
   "cell_type": "code",
   "execution_count": 180,
   "metadata": {},
   "outputs": [
    {
     "output_type": "execute_result",
     "data": {
      "text/plain": "22"
     },
     "metadata": {},
     "execution_count": 180
    }
   ],
   "source": [
    "now.second"
   ]
  },
  {
   "cell_type": "code",
   "execution_count": 181,
   "metadata": {},
   "outputs": [
    {
     "output_type": "execute_result",
     "data": {
      "text/plain": "460493"
     },
     "metadata": {},
     "execution_count": 181
    }
   ],
   "source": [
    "now.microsecond"
   ]
  },
  {
   "cell_type": "code",
   "execution_count": 182,
   "metadata": {},
   "outputs": [],
   "source": [
    "import time"
   ]
  },
  {
   "cell_type": "code",
   "execution_count": 183,
   "metadata": {},
   "outputs": [],
   "source": [
    "now = time.time()"
   ]
  },
  {
   "cell_type": "code",
   "execution_count": 184,
   "metadata": {},
   "outputs": [
    {
     "output_type": "execute_result",
     "data": {
      "text/plain": "1600767054.3610086"
     },
     "metadata": {},
     "execution_count": 184
    }
   ],
   "source": [
    "now"
   ]
  },
  {
   "cell_type": "code",
   "execution_count": 185,
   "metadata": {},
   "outputs": [
    {
     "output_type": "execute_result",
     "data": {
      "text/plain": "'Tue Sep 22 15:31:09 2020'"
     },
     "metadata": {},
     "execution_count": 185
    }
   ],
   "source": [
    "time.ctime()"
   ]
  },
  {
   "cell_type": "code",
   "execution_count": 186,
   "metadata": {},
   "outputs": [
    {
     "output_type": "execute_result",
     "data": {
      "text/plain": "time.struct_time(tm_year=2020, tm_mon=9, tm_mday=22, tm_hour=15, tm_min=31, tm_sec=20, tm_wday=1, tm_yday=266, tm_isdst=0)"
     },
     "metadata": {},
     "execution_count": 186
    }
   ],
   "source": [
    "time.localtime()"
   ]
  },
  {
   "cell_type": "code",
   "execution_count": 187,
   "metadata": {},
   "outputs": [],
   "source": [
    "import locale"
   ]
  },
  {
   "cell_type": "code",
   "execution_count": 188,
   "metadata": {},
   "outputs": [
    {
     "output_type": "execute_result",
     "data": {
      "text/plain": "['ABDAY_1',\n 'ABDAY_2',\n 'ABDAY_3',\n 'ABDAY_4',\n 'ABDAY_5',\n 'ABDAY_6',\n 'ABDAY_7',\n 'ABMON_1',\n 'ABMON_10',\n 'ABMON_11',\n 'ABMON_12',\n 'ABMON_2',\n 'ABMON_3',\n 'ABMON_4',\n 'ABMON_5',\n 'ABMON_6',\n 'ABMON_7',\n 'ABMON_8',\n 'ABMON_9',\n 'ALT_DIGITS',\n 'AM_STR',\n 'CHAR_MAX',\n 'CODESET',\n 'CRNCYSTR',\n 'DAY_1',\n 'DAY_2',\n 'DAY_3',\n 'DAY_4',\n 'DAY_5',\n 'DAY_6',\n 'DAY_7',\n 'D_FMT',\n 'D_T_FMT',\n 'ERA',\n 'ERA_D_FMT',\n 'ERA_D_T_FMT',\n 'ERA_T_FMT',\n 'Error',\n 'LC_ALL',\n 'LC_COLLATE',\n 'LC_CTYPE',\n 'LC_MESSAGES',\n 'LC_MONETARY',\n 'LC_NUMERIC',\n 'LC_TIME',\n 'MON_1',\n 'MON_10',\n 'MON_11',\n 'MON_12',\n 'MON_2',\n 'MON_3',\n 'MON_4',\n 'MON_5',\n 'MON_6',\n 'MON_7',\n 'MON_8',\n 'MON_9',\n 'NOEXPR',\n 'PM_STR',\n 'RADIXCHAR',\n 'THOUSEP',\n 'T_FMT',\n 'T_FMT_AMPM',\n 'YESEXPR',\n '__all__',\n '__builtins__',\n '__cached__',\n '__doc__',\n '__file__',\n '__loader__',\n '__name__',\n '__package__',\n '__spec__',\n '_append_modifier',\n '_build_localename',\n '_builtin_str',\n '_collections_abc',\n '_format',\n '_group',\n '_grouping_intervals',\n '_localeconv',\n '_override_localeconv',\n '_parse_localename',\n '_percent_re',\n '_print_locale',\n '_replace_encoding',\n '_setlocale',\n '_strcoll',\n '_strip_padding',\n '_strxfrm',\n '_test',\n 'atof',\n 'atoi',\n 'bind_textdomain_codeset',\n 'bindtextdomain',\n 'currency',\n 'dcgettext',\n 'delocalize',\n 'dgettext',\n 'encodings',\n 'format',\n 'format_string',\n 'functools',\n 'getdefaultlocale',\n 'getlocale',\n 'getpreferredencoding',\n 'gettext',\n 'k',\n 'locale_alias',\n 'locale_encoding_alias',\n 'localeconv',\n 'nl_langinfo',\n 'normalize',\n 're',\n 'resetlocale',\n 'setlocale',\n 'str',\n 'strcoll',\n 'strxfrm',\n 'sys',\n 'textdomain',\n 'v',\n 'windows_locale']"
     },
     "metadata": {},
     "execution_count": 188
    }
   ],
   "source": [
    "dir(locale)"
   ]
  },
  {
   "cell_type": "code",
   "execution_count": null,
   "metadata": {},
   "outputs": [],
   "source": []
  }
 ]
}