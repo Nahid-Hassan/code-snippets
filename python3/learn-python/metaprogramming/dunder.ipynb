{
 "metadata": {
  "language_info": {
   "codemirror_mode": {
    "name": "ipython",
    "version": 3
   },
   "file_extension": ".py",
   "mimetype": "text/x-python",
   "name": "python",
   "nbconvert_exporter": "python",
   "pygments_lexer": "ipython3",
   "version": "3.8.6-final"
  },
  "orig_nbformat": 2,
  "kernelspec": {
   "name": "python3",
   "display_name": "Python 3"
  }
 },
 "nbformat": 4,
 "nbformat_minor": 2,
 "cells": [
  {
   "cell_type": "code",
   "execution_count": 2,
   "metadata": {},
   "outputs": [
    {
     "output_type": "execute_result",
     "data": {
      "text/plain": [
       "'\\nRemarks\\n\\n* The return of __new__ should be an instance of the class. If nothing is returned, the new instance’s __init__ is not called.\\n\\n* No value should be returned by __init__. A TypeError is raised if anything than None is returned.\\n\\n* The operation del x does not directly call x.__del__. It decrements the reference count of x and only when it is zero that it is really called.\\n\\n* Any exception that occurs during __del__ is ignored and a warning is printed to sys.stderr instead.\\n'"
      ]
     },
     "metadata": {},
     "execution_count": 2
    }
   ],
   "source": [
    "\"\"\"\n",
    "Remarks\n",
    "\n",
    "* The return of __new__ should be an instance of the class. If nothing is returned, the new instance’s __init__ is not called.\n",
    "\n",
    "* No value should be returned by __init__. A TypeError is raised if anything than None is returned.\n",
    "\n",
    "* The operation del x does not directly call x.__del__. It decrements the reference count of x and only when it is zero that it is really called.\n",
    "\n",
    "* Any exception that occurs during __del__ is ignored and a warning is printed to sys.stderr instead.\n",
    "\"\"\""
   ]
  },
  {
   "cell_type": "code",
   "execution_count": 7,
   "metadata": {},
   "outputs": [],
   "source": [
    "class A:\n",
    "    def __new__(cls):\n",
    "        print(\"Creation of A\")\n",
    "        instance = super().__new__(cls)\n",
    "        return instance\n",
    "    \n",
    "    def __init__(self):\n",
    "        print(\"Initialization\")\n",
    "    \n",
    "    def __del__(self):\n",
    "        print(\"Delete\")"
   ]
  },
  {
   "cell_type": "code",
   "execution_count": 8,
   "metadata": {},
   "outputs": [
    {
     "output_type": "stream",
     "name": "stdout",
     "text": [
      "Creation of A\nInitialization\n"
     ]
    }
   ],
   "source": [
    "a = A()"
   ]
  },
  {
   "cell_type": "code",
   "execution_count": 9,
   "metadata": {},
   "outputs": [
    {
     "output_type": "stream",
     "name": "stdout",
     "text": [
      "Delete\n"
     ]
    }
   ],
   "source": [
    "del a"
   ]
  },
  {
   "cell_type": "code",
   "execution_count": 10,
   "metadata": {},
   "outputs": [],
   "source": [
    "# Representation\n",
    "# Useful to get a string that represents the class instance."
   ]
  },
  {
   "cell_type": "code",
   "execution_count": 12,
   "metadata": {},
   "outputs": [],
   "source": [
    "# __str__, __format__, __bytes__, __repr__"
   ]
  },
  {
   "cell_type": "code",
   "execution_count": 15,
   "metadata": {},
   "outputs": [
    {
     "output_type": "stream",
     "name": "stdout",
     "text": [
      "B (10)\nB with 10\nb'\\x00\\x00\\x00\\n'\nf\nB with 10\n10\n"
     ]
    }
   ],
   "source": [
    "class B:\n",
    "    def __init__(self, a):\n",
    "        self.a = a\n",
    "\n",
    "    def __repr__(self):\n",
    "        return f'B ({self.a})'\n",
    "\n",
    "    def __str__(self):\n",
    "        return f'B with {self.a}'\n",
    "\n",
    "    def __bytes__(self):\n",
    "        return self.a.to_bytes(4, byteorder='big')\n",
    "\n",
    "    def __format__(self, spec):\n",
    "        if spec == 'f':\n",
    "            return str(self.a)\n",
    "        return str(self)"
   ]
  },
  {
   "cell_type": "code",
   "execution_count": null,
   "metadata": {},
   "outputs": [],
   "source": []
  }
 ]
}