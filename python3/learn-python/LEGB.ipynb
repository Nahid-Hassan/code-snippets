{
 "metadata": {
  "language_info": {
   "codemirror_mode": {
    "name": "ipython",
    "version": 3
   },
   "file_extension": ".py",
   "mimetype": "text/x-python",
   "name": "python",
   "nbconvert_exporter": "python",
   "pygments_lexer": "ipython3",
   "version": "3.8.6-final"
  },
  "orig_nbformat": 2,
  "kernelspec": {
   "name": "python3",
   "display_name": "Python 3"
  }
 },
 "nbformat": 4,
 "nbformat_minor": 2,
 "cells": [
  {
   "cell_type": "code",
   "execution_count": 1,
   "metadata": {},
   "outputs": [
    {
     "output_type": "stream",
     "name": "stdout",
     "text": [
      "local y\n"
     ]
    }
   ],
   "source": [
    "x = 'global x'\n",
    "\n",
    "def test():\n",
    "    y = 'local y'\n",
    "    print(y)\n",
    "\n",
    "test()"
   ]
  },
  {
   "cell_type": "code",
   "execution_count": 2,
   "metadata": {},
   "outputs": [
    {
     "output_type": "stream",
     "name": "stdout",
     "text": [
      "local y\nglobal x\n"
     ]
    }
   ],
   "source": [
    "x = 'global x'\n",
    "\n",
    "def test():\n",
    "    y = 'local y'\n",
    "    print(y)\n",
    "\n",
    "test()\n",
    "print(x)\n",
    "# print(y) # Error"
   ]
  },
  {
   "cell_type": "code",
   "execution_count": 3,
   "metadata": {},
   "outputs": [
    {
     "output_type": "stream",
     "name": "stdout",
     "text": [
      "local x\nglobal x\n"
     ]
    }
   ],
   "source": [
    "x = 'global x'\n",
    "\n",
    "def test():\n",
    "    x = 'local x'\n",
    "    print(x) # x in local\n",
    "\n",
    "test()\n",
    "print(x) # print global x"
   ]
  },
  {
   "cell_type": "code",
   "execution_count": 4,
   "metadata": {},
   "outputs": [
    {
     "output_type": "stream",
     "name": "stdout",
     "text": [
      "local x\nlocal x\n"
     ]
    }
   ],
   "source": [
    "x = 'global x'\n",
    "\n",
    "def test():\n",
    "    global x\n",
    "    x = 'local x'\n",
    "    print(x)\n",
    "\n",
    "test()\n",
    "print(x)"
   ]
  },
  {
   "cell_type": "code",
   "execution_count": 5,
   "metadata": {},
   "outputs": [
    {
     "output_type": "stream",
     "name": "stdout",
     "text": [
      "local x\nlocal x\n"
     ]
    }
   ],
   "source": [
    "# x = 'global x'\n",
    "\n",
    "def test():\n",
    "    global x\n",
    "    x = 'local x'\n",
    "    print(x)\n",
    "\n",
    "test()\n",
    "print(x)"
   ]
  },
  {
   "cell_type": "code",
   "execution_count": 7,
   "metadata": {},
   "outputs": [],
   "source": [
    "# this is also works"
   ]
  },
  {
   "cell_type": "code",
   "execution_count": 8,
   "metadata": {},
   "outputs": [
    {
     "output_type": "execute_result",
     "data": {
      "text/plain": [
       "['ArithmeticError',\n",
       " 'AssertionError',\n",
       " 'AttributeError',\n",
       " 'BaseException',\n",
       " 'BlockingIOError',\n",
       " 'BrokenPipeError',\n",
       " 'BufferError',\n",
       " 'BytesWarning',\n",
       " 'ChildProcessError',\n",
       " 'ConnectionAbortedError',\n",
       " 'ConnectionError',\n",
       " 'ConnectionRefusedError',\n",
       " 'ConnectionResetError',\n",
       " 'DeprecationWarning',\n",
       " 'EOFError',\n",
       " 'Ellipsis',\n",
       " 'EnvironmentError',\n",
       " 'Exception',\n",
       " 'False',\n",
       " 'FileExistsError',\n",
       " 'FileNotFoundError',\n",
       " 'FloatingPointError',\n",
       " 'FutureWarning',\n",
       " 'GeneratorExit',\n",
       " 'IOError',\n",
       " 'ImportError',\n",
       " 'ImportWarning',\n",
       " 'IndentationError',\n",
       " 'IndexError',\n",
       " 'InterruptedError',\n",
       " 'IsADirectoryError',\n",
       " 'KeyError',\n",
       " 'KeyboardInterrupt',\n",
       " 'LookupError',\n",
       " 'MemoryError',\n",
       " 'ModuleNotFoundError',\n",
       " 'NameError',\n",
       " 'None',\n",
       " 'NotADirectoryError',\n",
       " 'NotImplemented',\n",
       " 'NotImplementedError',\n",
       " 'OSError',\n",
       " 'OverflowError',\n",
       " 'PendingDeprecationWarning',\n",
       " 'PermissionError',\n",
       " 'ProcessLookupError',\n",
       " 'RecursionError',\n",
       " 'ReferenceError',\n",
       " 'ResourceWarning',\n",
       " 'RuntimeError',\n",
       " 'RuntimeWarning',\n",
       " 'StopAsyncIteration',\n",
       " 'StopIteration',\n",
       " 'SyntaxError',\n",
       " 'SyntaxWarning',\n",
       " 'SystemError',\n",
       " 'SystemExit',\n",
       " 'TabError',\n",
       " 'TimeoutError',\n",
       " 'True',\n",
       " 'TypeError',\n",
       " 'UnboundLocalError',\n",
       " 'UnicodeDecodeError',\n",
       " 'UnicodeEncodeError',\n",
       " 'UnicodeError',\n",
       " 'UnicodeTranslateError',\n",
       " 'UnicodeWarning',\n",
       " 'UserWarning',\n",
       " 'ValueError',\n",
       " 'Warning',\n",
       " 'ZeroDivisionError',\n",
       " '__IPYTHON__',\n",
       " '__build_class__',\n",
       " '__debug__',\n",
       " '__doc__',\n",
       " '__import__',\n",
       " '__loader__',\n",
       " '__name__',\n",
       " '__package__',\n",
       " '__spec__',\n",
       " 'abs',\n",
       " 'all',\n",
       " 'any',\n",
       " 'ascii',\n",
       " 'bin',\n",
       " 'bool',\n",
       " 'breakpoint',\n",
       " 'bytearray',\n",
       " 'bytes',\n",
       " 'callable',\n",
       " 'chr',\n",
       " 'classmethod',\n",
       " 'compile',\n",
       " 'complex',\n",
       " 'copyright',\n",
       " 'credits',\n",
       " 'delattr',\n",
       " 'dict',\n",
       " 'dir',\n",
       " 'display',\n",
       " 'divmod',\n",
       " 'enumerate',\n",
       " 'eval',\n",
       " 'exec',\n",
       " 'filter',\n",
       " 'float',\n",
       " 'format',\n",
       " 'frozenset',\n",
       " 'get_ipython',\n",
       " 'getattr',\n",
       " 'globals',\n",
       " 'hasattr',\n",
       " 'hash',\n",
       " 'help',\n",
       " 'hex',\n",
       " 'id',\n",
       " 'input',\n",
       " 'int',\n",
       " 'isinstance',\n",
       " 'issubclass',\n",
       " 'iter',\n",
       " 'len',\n",
       " 'license',\n",
       " 'list',\n",
       " 'locals',\n",
       " 'map',\n",
       " 'max',\n",
       " 'memoryview',\n",
       " 'min',\n",
       " 'next',\n",
       " 'object',\n",
       " 'oct',\n",
       " 'open',\n",
       " 'ord',\n",
       " 'pow',\n",
       " 'print',\n",
       " 'property',\n",
       " 'range',\n",
       " 'repr',\n",
       " 'reversed',\n",
       " 'round',\n",
       " 'set',\n",
       " 'setattr',\n",
       " 'slice',\n",
       " 'sorted',\n",
       " 'staticmethod',\n",
       " 'str',\n",
       " 'sum',\n",
       " 'super',\n",
       " 'tuple',\n",
       " 'type',\n",
       " 'vars',\n",
       " 'zip']"
      ]
     },
     "metadata": {},
     "execution_count": 8
    }
   ],
   "source": [
    "import builtins\n",
    "dir(builtins)"
   ]
  },
  {
   "cell_type": "code",
   "execution_count": 9,
   "metadata": {},
   "outputs": [
    {
     "output_type": "stream",
     "name": "stdout",
     "text": [
      "inner x\nouter x\n"
     ]
    }
   ],
   "source": [
    "def outer():\n",
    "    x = 'outer x'\n",
    "\n",
    "    def inner():\n",
    "        x = 'inner x'\n",
    "        print(x)\n",
    "    inner()\n",
    "    print(x)\n",
    "\n",
    "outer()"
   ]
  },
  {
   "cell_type": "code",
   "execution_count": 13,
   "metadata": {},
   "outputs": [
    {
     "output_type": "stream",
     "name": "stdout",
     "text": [
      "inner x\ninner x\nglobal x\n"
     ]
    }
   ],
   "source": [
    "x = 'global x'\n",
    "def outer():\n",
    "    x = 'outer x' \n",
    "\n",
    "    def inner():\n",
    "        nonlocal x\n",
    "        x = 'inner x'\n",
    "        print(x)\n",
    "    inner()\n",
    "    print(x)\n",
    "\n",
    "outer()\n",
    "print(x)"
   ]
  },
  {
   "cell_type": "code",
   "execution_count": 14,
   "metadata": {},
   "outputs": [],
   "source": [
    "import locale"
   ]
  },
  {
   "cell_type": "code",
   "execution_count": 16,
   "metadata": {},
   "outputs": [
    {
     "output_type": "execute_result",
     "data": {
      "text/plain": [
       "['ABDAY_1',\n",
       " 'ABDAY_2',\n",
       " 'ABDAY_3',\n",
       " 'ABDAY_4',\n",
       " 'ABDAY_5',\n",
       " 'ABDAY_6',\n",
       " 'ABDAY_7',\n",
       " 'ABMON_1',\n",
       " 'ABMON_10',\n",
       " 'ABMON_11',\n",
       " 'ABMON_12',\n",
       " 'ABMON_2',\n",
       " 'ABMON_3',\n",
       " 'ABMON_4',\n",
       " 'ABMON_5',\n",
       " 'ABMON_6',\n",
       " 'ABMON_7',\n",
       " 'ABMON_8',\n",
       " 'ABMON_9',\n",
       " 'ALT_DIGITS',\n",
       " 'AM_STR',\n",
       " 'CHAR_MAX',\n",
       " 'CODESET',\n",
       " 'CRNCYSTR',\n",
       " 'DAY_1',\n",
       " 'DAY_2',\n",
       " 'DAY_3',\n",
       " 'DAY_4',\n",
       " 'DAY_5',\n",
       " 'DAY_6',\n",
       " 'DAY_7',\n",
       " 'D_FMT',\n",
       " 'D_T_FMT',\n",
       " 'ERA',\n",
       " 'ERA_D_FMT',\n",
       " 'ERA_D_T_FMT',\n",
       " 'ERA_T_FMT',\n",
       " 'Error',\n",
       " 'LC_ALL',\n",
       " 'LC_COLLATE',\n",
       " 'LC_CTYPE',\n",
       " 'LC_MESSAGES',\n",
       " 'LC_MONETARY',\n",
       " 'LC_NUMERIC',\n",
       " 'LC_TIME',\n",
       " 'MON_1',\n",
       " 'MON_10',\n",
       " 'MON_11',\n",
       " 'MON_12',\n",
       " 'MON_2',\n",
       " 'MON_3',\n",
       " 'MON_4',\n",
       " 'MON_5',\n",
       " 'MON_6',\n",
       " 'MON_7',\n",
       " 'MON_8',\n",
       " 'MON_9',\n",
       " 'NOEXPR',\n",
       " 'PM_STR',\n",
       " 'RADIXCHAR',\n",
       " 'THOUSEP',\n",
       " 'T_FMT',\n",
       " 'T_FMT_AMPM',\n",
       " 'YESEXPR',\n",
       " '__all__',\n",
       " '__builtins__',\n",
       " '__cached__',\n",
       " '__doc__',\n",
       " '__file__',\n",
       " '__loader__',\n",
       " '__name__',\n",
       " '__package__',\n",
       " '__spec__',\n",
       " '_append_modifier',\n",
       " '_build_localename',\n",
       " '_builtin_str',\n",
       " '_collections_abc',\n",
       " '_format',\n",
       " '_group',\n",
       " '_grouping_intervals',\n",
       " '_localeconv',\n",
       " '_override_localeconv',\n",
       " '_parse_localename',\n",
       " '_percent_re',\n",
       " '_print_locale',\n",
       " '_replace_encoding',\n",
       " '_setlocale',\n",
       " '_strcoll',\n",
       " '_strip_padding',\n",
       " '_strxfrm',\n",
       " '_test',\n",
       " 'atof',\n",
       " 'atoi',\n",
       " 'bind_textdomain_codeset',\n",
       " 'bindtextdomain',\n",
       " 'currency',\n",
       " 'dcgettext',\n",
       " 'delocalize',\n",
       " 'dgettext',\n",
       " 'encodings',\n",
       " 'format',\n",
       " 'format_string',\n",
       " 'functools',\n",
       " 'getdefaultlocale',\n",
       " 'getlocale',\n",
       " 'getpreferredencoding',\n",
       " 'gettext',\n",
       " 'k',\n",
       " 'locale_alias',\n",
       " 'locale_encoding_alias',\n",
       " 'localeconv',\n",
       " 'nl_langinfo',\n",
       " 'normalize',\n",
       " 're',\n",
       " 'resetlocale',\n",
       " 'setlocale',\n",
       " 'str',\n",
       " 'strcoll',\n",
       " 'strxfrm',\n",
       " 'sys',\n",
       " 'textdomain',\n",
       " 'v',\n",
       " 'windows_locale']"
      ]
     },
     "metadata": {},
     "execution_count": 16
    }
   ],
   "source": [
    "dir(locale)"
   ]
  },
  {
   "cell_type": "code",
   "execution_count": 18,
   "metadata": {},
   "outputs": [
    {
     "output_type": "execute_result",
     "data": {
      "text/plain": [
       "['/media/nahid/data-center1/workspace/code-snippets/python3/learn-python',\n",
       " '/home/nahid/.vscode/extensions/ms-toolsai.jupyter-2020.11.399280825/pythonFiles/vscode_datascience_helpers/../.does-not-exist',\n",
       " '/home/nahid/.vscode/extensions/ms-toolsai.jupyter-2020.11.399280825/pythonFiles',\n",
       " '/home/nahid/.vscode/extensions/ms-toolsai.jupyter-2020.11.399280825/pythonFiles/lib/python',\n",
       " '/usr/lib/python38.zip',\n",
       " '/usr/lib/python3.8',\n",
       " '/usr/lib/python3.8/lib-dynload',\n",
       " '',\n",
       " '/home/nahid/.local/lib/python3.8/site-packages',\n",
       " '/media/nahid/data-center1/workspace/projects/projects/python-mini-scripts/building-cli-tool-using-python',\n",
       " '/usr/local/lib/python3.8/dist-packages',\n",
       " '/usr/lib/python3/dist-packages',\n",
       " '/usr/lib/python3.8/dist-packages',\n",
       " '/usr/lib/python3/dist-packages/IPython/extensions',\n",
       " '/home/nahid/.ipython']"
      ]
     },
     "metadata": {},
     "execution_count": 18
    }
   ],
   "source": []
  },
  {
   "cell_type": "code",
   "execution_count": null,
   "metadata": {},
   "outputs": [],
   "source": []
  }
 ]
}