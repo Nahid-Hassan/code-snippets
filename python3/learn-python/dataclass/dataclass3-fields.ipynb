{
 "metadata": {
  "language_info": {
   "codemirror_mode": {
    "name": "ipython",
    "version": 3
   },
   "file_extension": ".py",
   "mimetype": "text/x-python",
   "name": "python",
   "nbconvert_exporter": "python",
   "pygments_lexer": "ipython3",
   "version": "3.8.6-final"
  },
  "orig_nbformat": 2,
  "kernelspec": {
   "name": "python3",
   "display_name": "Python 3"
  }
 },
 "nbformat": 4,
 "nbformat_minor": 2,
 "cells": [
  {
   "cell_type": "code",
   "execution_count": 64,
   "metadata": {},
   "outputs": [],
   "source": [
    "from dataclasses import dataclass, field"
   ]
  },
  {
   "cell_type": "code",
   "execution_count": 65,
   "metadata": {},
   "outputs": [
    {
     "output_type": "stream",
     "name": "stdout",
     "text": [
      "Help on function field in module dataclasses:\n\nfield(*, default=<dataclasses._MISSING_TYPE object at 0x7f80302e6ac0>, default_factory=<dataclasses._MISSING_TYPE object at 0x7f80302e6ac0>, init=True, repr=True, hash=None, compare=True, metadata=None)\n    Return an object to identify dataclass fields.\n    \n    default is the default value of the field.  default_factory is a\n    0-argument function called to initialize a field's value.  If init\n    is True, the field will be a parameter to the class's __init__()\n    function.  If repr is True, the field will be included in the\n    object's repr().  If hash is True, the field will be included in\n    the object's hash().  If compare is True, the field will be used\n    in comparison functions.  metadata, if specified, must be a\n    mapping which is stored but not otherwise examined by dataclass.\n    \n    It is an error to specify both default and default_factory.\n\n"
     ]
    }
   ],
   "source": [
    "help(field)"
   ]
  },
  {
   "cell_type": "code",
   "execution_count": 66,
   "metadata": {},
   "outputs": [
    {
     "output_type": "execute_result",
     "data": {
      "text/plain": [
       "'\\nfield(*, default=****, default_factory=****, init=True, repr=True, hash=None, compare=True, metadata=None)\\n    Return an object to identify dataclass fields.\\n'"
      ]
     },
     "metadata": {},
     "execution_count": 66
    }
   ],
   "source": [
    "# field class signature\n",
    "'''\n",
    "field(*, default=****, default_factory=****, init=True, repr=True, hash=None, compare=True, metadata=None)\n",
    "    Return an object to identify dataclass fields.\n",
    "'''"
   ]
  },
  {
   "cell_type": "code",
   "execution_count": 67,
   "metadata": {},
   "outputs": [
    {
     "output_type": "execute_result",
     "data": {
      "text/plain": [
       "'\\nThe parameters to field() are:\\n\\n* default: If provided, this will be the default value for this field. This is needed because the field() call itself replaces the normal position of the default value.\\n\\n* default_factory: If provided, it must be a zero-argument callable that will be called when a default value is needed for this field. Among other purposes, this can be used to specify fields with mutable default values, as discussed below. It is an error to specify both default and default_factory.\\n\\n* init: If true (the default), this field is included as a parameter to the generated __init__() method.\\n\\n* repr: If true (the default), this field is included in the string returned by the generated __repr__() method.\\n\\n* compare: If true (the default), this field is included in the generated equality and comparison methods (__eq__(), __gt__(), et al.).\\n\\n* hash: This can be a bool or None. If true, this field is included in the generated __hash__() method. If None (the default), use the value of compare: this would normally be the expected behavior. A field should be considered in the hash if it’s used for comparisons. Setting this value to anything other than None is discouraged.\\n\\nOne possible reason to set hash=False but compare=True would be if a field is expensive to compute a hash value for, that field is needed for equality testing, and there are other fields that contribute to the type’s hash value. Even if a field is excluded from the hash, it will still be used for comparisons.\\n\\n* metadata: This can be a mapping or None. None is treated as an empty dict. This value is wrapped in MappingProxyType() to make it read-only, and exposed on the Field object. It is not used at all by Data Classes, and is provided as a third-party extension mechanism. Multiple third-parties can each have their own key, to use as a namespace in the metadata.\\n'"
      ]
     },
     "metadata": {},
     "execution_count": 67
    }
   ],
   "source": [
    "'''\n",
    "The parameters to field() are:\n",
    "\n",
    "* default: If provided, this will be the default value for this field. This is needed because the field() call itself replaces the normal position of the default value.\n",
    "\n",
    "* default_factory: If provided, it must be a zero-argument callable that will be called when a default value is needed for this field. Among other purposes, this can be used to specify fields with mutable default values, as discussed below. It is an error to specify both default and default_factory.\n",
    "\n",
    "* init: If true (the default), this field is included as a parameter to the generated __init__() method.\n",
    "\n",
    "* repr: If true (the default), this field is included in the string returned by the generated __repr__() method.\n",
    "\n",
    "* compare: If true (the default), this field is included in the generated equality and comparison methods (__eq__(), __gt__(), et al.).\n",
    "\n",
    "* hash: This can be a bool or None. If true, this field is included in the generated __hash__() method. If None (the default), use the value of compare: this would normally be the expected behavior. A field should be considered in the hash if it’s used for comparisons. Setting this value to anything other than None is discouraged.\n",
    "\n",
    "One possible reason to set hash=False but compare=True would be if a field is expensive to compute a hash value for, that field is needed for equality testing, and there are other fields that contribute to the type’s hash value. Even if a field is excluded from the hash, it will still be used for comparisons.\n",
    "\n",
    "* metadata: This can be a mapping or None. None is treated as an empty dict. This value is wrapped in MappingProxyType() to make it read-only, and exposed on the Field object. It is not used at all by Data Classes, and is provided as a third-party extension mechanism. Multiple third-parties can each have their own key, to use as a namespace in the metadata.\n",
    "'''"
   ]
  },
  {
   "cell_type": "code",
   "execution_count": 68,
   "metadata": {},
   "outputs": [],
   "source": [
    "# default parameter"
   ]
  },
  {
   "cell_type": "code",
   "execution_count": 69,
   "metadata": {},
   "outputs": [],
   "source": [
    "@dataclass\n",
    "class Person:\n",
    "    name: str\n",
    "    age: int\n",
    "    city: str "
   ]
  },
  {
   "cell_type": "code",
   "execution_count": 70,
   "metadata": {},
   "outputs": [],
   "source": [
    " p = Person('Mahin', 23, 'Madargonj')"
   ]
  },
  {
   "cell_type": "code",
   "execution_count": 71,
   "metadata": {},
   "outputs": [
    {
     "output_type": "execute_result",
     "data": {
      "text/plain": [
       "Person(name='Mahin', age=23, city='Madargonj')"
      ]
     },
     "metadata": {},
     "execution_count": 71
    }
   ],
   "source": [
    "p"
   ]
  },
  {
   "cell_type": "code",
   "execution_count": 72,
   "metadata": {},
   "outputs": [],
   "source": [
    "# p = Person('Mahin', 23) # TypeError: __init__() missing 1 required positional argument: 'city'"
   ]
  },
  {
   "cell_type": "code",
   "execution_count": 73,
   "metadata": {},
   "outputs": [],
   "source": [
    "# using field() with default parameter"
   ]
  },
  {
   "cell_type": "code",
   "execution_count": 74,
   "metadata": {},
   "outputs": [],
   "source": [
    "# @dataclass\n",
    "# class Person:\n",
    "#     name: str\n",
    "#     age: int = field(default=23) # set the default value is 23. \n",
    "#     city: str "
   ]
  },
  {
   "cell_type": "code",
   "execution_count": 75,
   "metadata": {},
   "outputs": [],
   "source": [
    "# Above here occurs an error, cause we cannot set default value in the middle parameter. For add default value we must set value for last parameter, then last 2nd and so on.... "
   ]
  },
  {
   "cell_type": "code",
   "execution_count": 76,
   "metadata": {},
   "outputs": [],
   "source": [
    "@dataclass\n",
    "class Person:\n",
    "    name: str\n",
    "    '''Both way we can set default value '''\n",
    "    age: int = field(default=23)\n",
    "    city: str = 'Jamalpur'"
   ]
  },
  {
   "cell_type": "code",
   "execution_count": 77,
   "metadata": {},
   "outputs": [],
   "source": [
    "p = Person('Mahin')"
   ]
  },
  {
   "cell_type": "code",
   "execution_count": 78,
   "metadata": {},
   "outputs": [
    {
     "output_type": "execute_result",
     "data": {
      "text/plain": [
       "Person(name='Mahin', age=23, city='Jamalpur')"
      ]
     },
     "metadata": {},
     "execution_count": 78
    }
   ],
   "source": [
    "p"
   ]
  },
  {
   "cell_type": "code",
   "execution_count": 79,
   "metadata": {},
   "outputs": [],
   "source": [
    "# default_factory parameter"
   ]
  },
  {
   "cell_type": "code",
   "execution_count": 80,
   "metadata": {},
   "outputs": [],
   "source": [
    "# If provided, it must be a zero-argument callable that will be called when a default value is needed for this field. Among other purposes, this can be used to specify fields with mutable default values, as discussed below. It is an error to specify both default and default_factory."
   ]
  },
  {
   "cell_type": "code",
   "execution_count": 81,
   "metadata": {},
   "outputs": [],
   "source": [
    "# define get default age\n",
    "def get_default_age():\n",
    "    ages = [34, 12, 45, 65, 34]\n",
    "    return sum(ages) // len(ages)\n",
    "\n",
    "@dataclass\n",
    "class Person:\n",
    "    name: str\n",
    "    city: str\n",
    "    age: int = field(default_factory=get_default_age) # we cannot pass any arguments. we use only those function which have no arguments"
   ]
  },
  {
   "cell_type": "code",
   "execution_count": 82,
   "metadata": {},
   "outputs": [
    {
     "output_type": "execute_result",
     "data": {
      "text/plain": [
       "Person(name='Mahin', city='Jamalpur', age=38)"
      ]
     },
     "metadata": {},
     "execution_count": 82
    }
   ],
   "source": [
    "p = Person('Mahin', 'Jamalpur')\n",
    "p"
   ]
  },
  {
   "cell_type": "code",
   "execution_count": 83,
   "metadata": {},
   "outputs": [],
   "source": [
    "### init parameter"
   ]
  },
  {
   "cell_type": "code",
   "execution_count": 84,
   "metadata": {},
   "outputs": [],
   "source": [
    "@dataclass\n",
    "class Person:\n",
    "    name: str\n",
    "    city: str = field(init=False, default='Jamalpur')\n",
    "    age: int = field(default_factory=get_default_age)"
   ]
  },
  {
   "cell_type": "code",
   "execution_count": 85,
   "metadata": {},
   "outputs": [],
   "source": [
    "# p = Person('Nahid', 'Jamalpur', 24) TypeError: __init__() takes from 2 to 3 positional arguments but 4 were given"
   ]
  },
  {
   "cell_type": "code",
   "execution_count": 86,
   "metadata": {},
   "outputs": [],
   "source": [
    "# city name is no longer our init parameter\n",
    "p = Person('Mahin')"
   ]
  },
  {
   "cell_type": "code",
   "execution_count": 87,
   "metadata": {},
   "outputs": [
    {
     "output_type": "execute_result",
     "data": {
      "text/plain": [
       "Person(name='Mahin', city='Jamalpur', age=38)"
      ]
     },
     "metadata": {},
     "execution_count": 87
    }
   ],
   "source": [
    "p"
   ]
  },
  {
   "cell_type": "code",
   "execution_count": 88,
   "metadata": {},
   "outputs": [],
   "source": [
    "## repr parameter"
   ]
  },
  {
   "cell_type": "code",
   "execution_count": 89,
   "metadata": {},
   "outputs": [],
   "source": [
    "# by default repr is for all parameter is true. that's why if we print(p) we show all the parameter output"
   ]
  },
  {
   "cell_type": "code",
   "execution_count": 90,
   "metadata": {},
   "outputs": [],
   "source": [
    "# now made repr=False for city parameter\n",
    "try:\n",
    "    from faker import Faker\n",
    "except:\n",
    "    !pip3 install faker\n",
    "\n",
    "def get_random_name():\n",
    "    return Faker().name()\n",
    "\n",
    "@dataclass\n",
    "class Person:\n",
    "    name: str = field(default_factory=get_random_name)\n",
    "    city: str = field(init=False, default='Jamlapur', repr=False)\n",
    "    age: int = field(default_factory=get_default_age)"
   ]
  },
  {
   "cell_type": "code",
   "execution_count": 91,
   "metadata": {},
   "outputs": [
    {
     "output_type": "execute_result",
     "data": {
      "text/plain": [
       "Person(name='Mahin', age=38)"
      ]
     },
     "metadata": {},
     "execution_count": 91
    }
   ],
   "source": [
    "p = Person('Mahin')\n",
    "p # now not showing city parameter value"
   ]
  },
  {
   "cell_type": "code",
   "execution_count": 92,
   "metadata": {},
   "outputs": [
    {
     "output_type": "execute_result",
     "data": {
      "text/plain": [
       "Person(name='Victoria Chaney', age=38)"
      ]
     },
     "metadata": {},
     "execution_count": 92
    }
   ],
   "source": [
    "p = Person()\n",
    "p"
   ]
  },
  {
   "cell_type": "code",
   "execution_count": 93,
   "metadata": {},
   "outputs": [],
   "source": [
    "## hash parameter"
   ]
  },
  {
   "cell_type": "code",
   "execution_count": 94,
   "metadata": {},
   "outputs": [],
   "source": [
    "@dataclass(unsafe_hash=True) # unsafe_hash declare that it is now calculate hash value for immutabe object/variable/parameter\n",
    "class Person:\n",
    "    name: str = field(default_factory=get_random_city)\n",
    "    city: str = field(init=False, default='London', repr=False)\n",
    "    age: int = field(default_factory=get_default_age)"
   ]
  },
  {
   "cell_type": "code",
   "execution_count": 95,
   "metadata": {},
   "outputs": [
    {
     "output_type": "execute_result",
     "data": {
      "text/plain": [
       "Person(name='Alice Johnson', age=38)"
      ]
     },
     "metadata": {},
     "execution_count": 95
    }
   ],
   "source": [
    "p = Person()\n",
    "p"
   ]
  },
  {
   "cell_type": "code",
   "execution_count": 96,
   "metadata": {},
   "outputs": [
    {
     "output_type": "execute_result",
     "data": {
      "text/plain": [
       "4657931808126386428"
      ]
     },
     "metadata": {},
     "execution_count": 96
    }
   ],
   "source": [
    "hash(p)"
   ]
  },
  {
   "cell_type": "code",
   "execution_count": 97,
   "metadata": {},
   "outputs": [],
   "source": [
    "# same class with hash parameter is False for city parameter\n",
    "# simply if we don't want to a parameter that is not part into our hash value then we make our hash=False for this parameter\n",
    "\n",
    "@dataclass(unsafe_hash=True) # unsafe_hash declare that it is now calculate hash value for immutabe object/variable/parameter\n",
    "class Person:\n",
    "    name: str = field(default_factory=get_random_city)\n",
    "    city: str = field(init=False, default='London', repr=False, hash=False)\n",
    "    age: int = field(default_factory=get_default_age)"
   ]
  },
  {
   "cell_type": "code",
   "execution_count": 100,
   "metadata": {},
   "outputs": [
    {
     "output_type": "execute_result",
     "data": {
      "text/plain": [
       "-7704917061474706610"
      ]
     },
     "metadata": {},
     "execution_count": 100
    }
   ],
   "source": [
    "p = Person()\n",
    "hash(p) # different has"
   ]
  },
  {
   "cell_type": "code",
   "execution_count": 101,
   "metadata": {},
   "outputs": [],
   "source": [
    "# compare parameter: if we not want to compare any property for our comparison like == than we make this parameter compare=False"
   ]
  },
  {
   "cell_type": "code",
   "execution_count": 102,
   "metadata": {},
   "outputs": [],
   "source": [
    "@dataclass(unsafe_hash=True) # unsafe_hash declare that it is now calculate hash value for immutabe object/variable/parameter\n",
    "class Person:\n",
    "    name: str = field(default_factory=get_random_city, compare=False)\n",
    "    city: str = field(init=False, default='London', repr=False, compare=False)\n",
    "    age: int = field(default_factory=get_default_age)"
   ]
  },
  {
   "cell_type": "code",
   "execution_count": 103,
   "metadata": {},
   "outputs": [],
   "source": [
    "p1 = Person()\n",
    "p2 = Person()"
   ]
  },
  {
   "cell_type": "code",
   "execution_count": 104,
   "metadata": {},
   "outputs": [
    {
     "output_type": "execute_result",
     "data": {
      "text/plain": [
       "True"
      ]
     },
     "metadata": {},
     "execution_count": 104
    }
   ],
   "source": [
    "p1 == p2"
   ]
  },
  {
   "cell_type": "code",
   "execution_count": 113,
   "metadata": {},
   "outputs": [],
   "source": [
    "@dataclass(unsafe_hash=True) # unsafe_hash declare that it is now calculate hash value for immutabe object/variable/parameter\n",
    "class Person:\n",
    "    name: str = field(default_factory=get_random_city)\n",
    "    city: str = field(init=False, default='London', compare=False)\n",
    "    age: int = field(default_factory=get_default_age, compare=False)"
   ]
  },
  {
   "cell_type": "code",
   "execution_count": 114,
   "metadata": {},
   "outputs": [
    {
     "output_type": "execute_result",
     "data": {
      "text/plain": [
       "True"
      ]
     },
     "metadata": {},
     "execution_count": 114
    }
   ],
   "source": [
    "p1 = Person('Mahin', 34) \n",
    "p2 = Person('Mahin', 32)\n",
    "p1 == p2 # true because we made age, compare=False"
   ]
  },
  {
   "cell_type": "code",
   "execution_count": 115,
   "metadata": {},
   "outputs": [
    {
     "output_type": "execute_result",
     "data": {
      "text/plain": [
       "Person(name='Mahin', city='London', age=34)"
      ]
     },
     "metadata": {},
     "execution_count": 115
    }
   ],
   "source": [
    "p1"
   ]
  },
  {
   "cell_type": "code",
   "execution_count": 116,
   "metadata": {},
   "outputs": [
    {
     "output_type": "execute_result",
     "data": {
      "text/plain": [
       "Person(name='Mahin', city='London', age=32)"
      ]
     },
     "metadata": {},
     "execution_count": 116
    }
   ],
   "source": [
    "p2"
   ]
  },
  {
   "cell_type": "code",
   "execution_count": null,
   "metadata": {},
   "outputs": [],
   "source": []
  },
  {
   "cell_type": "code",
   "execution_count": 117,
   "metadata": {},
   "outputs": [],
   "source": [
    "# metadata\n",
    "@dataclass\n",
    "class Person:\n",
    "    name: str = field(default_factory=get_random_name)\n",
    "    city: str = field(init=False, default='London')\n",
    "    age: int = field(default_factory=get_default_age, metadata={'format': 'year'})"
   ]
  },
  {
   "cell_type": "code",
   "execution_count": 118,
   "metadata": {},
   "outputs": [],
   "source": [
    "p = Person()"
   ]
  },
  {
   "cell_type": "code",
   "execution_count": 119,
   "metadata": {},
   "outputs": [
    {
     "output_type": "execute_result",
     "data": {
      "text/plain": [
       "Field(name='age',type=<class 'int'>,default=<dataclasses._MISSING_TYPE object at 0x7f80302e6ac0>,default_factory=<function get_default_age at 0x7f8020be91f0>,init=True,repr=True,hash=None,compare=True,metadata=mappingproxy({'format': 'year'}),_field_type=_FIELD)"
      ]
     },
     "metadata": {},
     "execution_count": 119
    }
   ],
   "source": [
    "p.__dataclass_fields__['age'] # metadata=mappingproxy({'format': 'year'})"
   ]
  },
  {
   "cell_type": "code",
   "execution_count": 121,
   "metadata": {},
   "outputs": [
    {
     "output_type": "execute_result",
     "data": {
      "text/plain": [
       "'year'"
      ]
     },
     "metadata": {},
     "execution_count": 121
    }
   ],
   "source": [
    "# show the metadata\n",
    "p.__dataclass_fields__['age'].metadata['format'] # we pass the format = year"
   ]
  },
  {
   "cell_type": "code",
   "execution_count": 122,
   "metadata": {},
   "outputs": [
    {
     "output_type": "execute_result",
     "data": {
      "text/plain": [
       "mappingproxy({'format': 'year'})"
      ]
     },
     "metadata": {},
     "execution_count": 122
    }
   ],
   "source": [
    "p.__dataclass_fields__['age'].metadata"
   ]
  },
  {
   "cell_type": "code",
   "execution_count": null,
   "metadata": {},
   "outputs": [],
   "source": []
  }
 ]
}